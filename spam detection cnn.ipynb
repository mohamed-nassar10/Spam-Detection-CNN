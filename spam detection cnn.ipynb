{
 "cells": [
  {
   "cell_type": "code",
   "execution_count": null,
   "metadata": {
    "colab": {},
    "colab_type": "code",
    "id": "X0N0Bt07QdQm"
   },
   "outputs": [],
   "source": [
    "# inspired by lazyprogrammer\n",
    "\n",
    "\n",
    "import numpy as np\n",
    "import pandas as pd\n",
    "import matplotlib.pyplot as plt\n",
    "\n",
    "from datetime import datetime\n",
    "\n",
    "\n",
    "import torch\n",
    "import torch.nn as nn\n",
    "import torch.nn.functional as F\n",
    "import torchtext.legacy.data as ttd\n",
    "\n",
    "\n"
   ]
  },
  {
   "cell_type": "code",
   "execution_count": null,
   "metadata": {
    "colab": {},
    "colab_type": "code",
    "id": "nHiMfkAbRGVX"
   },
   "outputs": [],
   "source": [
    "df = pd.read_csv('spam.csv', encoding='ISO-8859-1')"
   ]
  },
  {
   "cell_type": "code",
   "execution_count": null,
   "metadata": {
    "colab": {
     "base_uri": "https://localhost:8080/",
     "height": 204
    },
    "colab_type": "code",
    "id": "8yoYsI-VRHCO",
    "outputId": "13a9d596-7550-406f-ab12-a1cb7310231f"
   },
   "outputs": [
    {
     "data": {
      "text/html": [
       "<div>\n",
       "<style scoped>\n",
       "    .dataframe tbody tr th:only-of-type {\n",
       "        vertical-align: middle;\n",
       "    }\n",
       "\n",
       "    .dataframe tbody tr th {\n",
       "        vertical-align: top;\n",
       "    }\n",
       "\n",
       "    .dataframe thead th {\n",
       "        text-align: right;\n",
       "    }\n",
       "</style>\n",
       "<table border=\"1\" class=\"dataframe\">\n",
       "  <thead>\n",
       "    <tr style=\"text-align: right;\">\n",
       "      <th></th>\n",
       "      <th>v1</th>\n",
       "      <th>v2</th>\n",
       "      <th>Unnamed: 2</th>\n",
       "      <th>Unnamed: 3</th>\n",
       "      <th>Unnamed: 4</th>\n",
       "    </tr>\n",
       "  </thead>\n",
       "  <tbody>\n",
       "    <tr>\n",
       "      <th>0</th>\n",
       "      <td>ham</td>\n",
       "      <td>Go until jurong point, crazy.. Available only ...</td>\n",
       "      <td>NaN</td>\n",
       "      <td>NaN</td>\n",
       "      <td>NaN</td>\n",
       "    </tr>\n",
       "    <tr>\n",
       "      <th>1</th>\n",
       "      <td>ham</td>\n",
       "      <td>Ok lar... Joking wif u oni...</td>\n",
       "      <td>NaN</td>\n",
       "      <td>NaN</td>\n",
       "      <td>NaN</td>\n",
       "    </tr>\n",
       "    <tr>\n",
       "      <th>2</th>\n",
       "      <td>spam</td>\n",
       "      <td>Free entry in 2 a wkly comp to win FA Cup fina...</td>\n",
       "      <td>NaN</td>\n",
       "      <td>NaN</td>\n",
       "      <td>NaN</td>\n",
       "    </tr>\n",
       "    <tr>\n",
       "      <th>3</th>\n",
       "      <td>ham</td>\n",
       "      <td>U dun say so early hor... U c already then say...</td>\n",
       "      <td>NaN</td>\n",
       "      <td>NaN</td>\n",
       "      <td>NaN</td>\n",
       "    </tr>\n",
       "    <tr>\n",
       "      <th>4</th>\n",
       "      <td>ham</td>\n",
       "      <td>Nah I don't think he goes to usf, he lives aro...</td>\n",
       "      <td>NaN</td>\n",
       "      <td>NaN</td>\n",
       "      <td>NaN</td>\n",
       "    </tr>\n",
       "  </tbody>\n",
       "</table>\n",
       "</div>"
      ],
      "text/plain": [
       "     v1  ... Unnamed: 4\n",
       "0   ham  ...        NaN\n",
       "1   ham  ...        NaN\n",
       "2  spam  ...        NaN\n",
       "3   ham  ...        NaN\n",
       "4   ham  ...        NaN\n",
       "\n",
       "[5 rows x 5 columns]"
      ]
     },
     "execution_count": 4,
     "metadata": {
      "tags": []
     },
     "output_type": "execute_result"
    }
   ],
   "source": [
    "df.head()"
   ]
  },
  {
   "cell_type": "code",
   "execution_count": null,
   "metadata": {
    "colab": {},
    "colab_type": "code",
    "id": "64SqvjY8RMUk"
   },
   "outputs": [],
   "source": [
    "df = df.drop([\"Unnamed: 2\", \"Unnamed: 3\", \"Unnamed: 4\"], axis=1)"
   ]
  },
  {
   "cell_type": "code",
   "execution_count": null,
   "metadata": {
    "colab": {
     "base_uri": "https://localhost:8080/",
     "height": 204
    },
    "colab_type": "code",
    "id": "2VWZD0KSRNFk",
    "outputId": "bca6d1db-ab27-46af-8dfe-b29186e20a3e"
   },
   "outputs": [
    {
     "data": {
      "text/html": [
       "<div>\n",
       "<style scoped>\n",
       "    .dataframe tbody tr th:only-of-type {\n",
       "        vertical-align: middle;\n",
       "    }\n",
       "\n",
       "    .dataframe tbody tr th {\n",
       "        vertical-align: top;\n",
       "    }\n",
       "\n",
       "    .dataframe thead th {\n",
       "        text-align: right;\n",
       "    }\n",
       "</style>\n",
       "<table border=\"1\" class=\"dataframe\">\n",
       "  <thead>\n",
       "    <tr style=\"text-align: right;\">\n",
       "      <th></th>\n",
       "      <th>v1</th>\n",
       "      <th>v2</th>\n",
       "    </tr>\n",
       "  </thead>\n",
       "  <tbody>\n",
       "    <tr>\n",
       "      <th>0</th>\n",
       "      <td>ham</td>\n",
       "      <td>Go until jurong point, crazy.. Available only ...</td>\n",
       "    </tr>\n",
       "    <tr>\n",
       "      <th>1</th>\n",
       "      <td>ham</td>\n",
       "      <td>Ok lar... Joking wif u oni...</td>\n",
       "    </tr>\n",
       "    <tr>\n",
       "      <th>2</th>\n",
       "      <td>spam</td>\n",
       "      <td>Free entry in 2 a wkly comp to win FA Cup fina...</td>\n",
       "    </tr>\n",
       "    <tr>\n",
       "      <th>3</th>\n",
       "      <td>ham</td>\n",
       "      <td>U dun say so early hor... U c already then say...</td>\n",
       "    </tr>\n",
       "    <tr>\n",
       "      <th>4</th>\n",
       "      <td>ham</td>\n",
       "      <td>Nah I don't think he goes to usf, he lives aro...</td>\n",
       "    </tr>\n",
       "  </tbody>\n",
       "</table>\n",
       "</div>"
      ],
      "text/plain": [
       "     v1                                                 v2\n",
       "0   ham  Go until jurong point, crazy.. Available only ...\n",
       "1   ham                      Ok lar... Joking wif u oni...\n",
       "2  spam  Free entry in 2 a wkly comp to win FA Cup fina...\n",
       "3   ham  U dun say so early hor... U c already then say...\n",
       "4   ham  Nah I don't think he goes to usf, he lives aro..."
      ]
     },
     "execution_count": 6,
     "metadata": {
      "tags": []
     },
     "output_type": "execute_result"
    }
   ],
   "source": [
    "df.head()"
   ]
  },
  {
   "cell_type": "code",
   "execution_count": null,
   "metadata": {
    "colab": {},
    "colab_type": "code",
    "id": "VE4XSMQJRQH1"
   },
   "outputs": [],
   "source": [
    "df.columns = ['labels', 'data']"
   ]
  },
  {
   "cell_type": "code",
   "execution_count": null,
   "metadata": {
    "colab": {
     "base_uri": "https://localhost:8080/",
     "height": 204
    },
    "colab_type": "code",
    "id": "piGZxXqzRSao",
    "outputId": "fadd96a4-c636-4e21-f7ea-6e175e6e4240"
   },
   "outputs": [
    {
     "data": {
      "text/html": [
       "<div>\n",
       "<style scoped>\n",
       "    .dataframe tbody tr th:only-of-type {\n",
       "        vertical-align: middle;\n",
       "    }\n",
       "\n",
       "    .dataframe tbody tr th {\n",
       "        vertical-align: top;\n",
       "    }\n",
       "\n",
       "    .dataframe thead th {\n",
       "        text-align: right;\n",
       "    }\n",
       "</style>\n",
       "<table border=\"1\" class=\"dataframe\">\n",
       "  <thead>\n",
       "    <tr style=\"text-align: right;\">\n",
       "      <th></th>\n",
       "      <th>labels</th>\n",
       "      <th>data</th>\n",
       "    </tr>\n",
       "  </thead>\n",
       "  <tbody>\n",
       "    <tr>\n",
       "      <th>0</th>\n",
       "      <td>ham</td>\n",
       "      <td>Go until jurong point, crazy.. Available only ...</td>\n",
       "    </tr>\n",
       "    <tr>\n",
       "      <th>1</th>\n",
       "      <td>ham</td>\n",
       "      <td>Ok lar... Joking wif u oni...</td>\n",
       "    </tr>\n",
       "    <tr>\n",
       "      <th>2</th>\n",
       "      <td>spam</td>\n",
       "      <td>Free entry in 2 a wkly comp to win FA Cup fina...</td>\n",
       "    </tr>\n",
       "    <tr>\n",
       "      <th>3</th>\n",
       "      <td>ham</td>\n",
       "      <td>U dun say so early hor... U c already then say...</td>\n",
       "    </tr>\n",
       "    <tr>\n",
       "      <th>4</th>\n",
       "      <td>ham</td>\n",
       "      <td>Nah I don't think he goes to usf, he lives aro...</td>\n",
       "    </tr>\n",
       "  </tbody>\n",
       "</table>\n",
       "</div>"
      ],
      "text/plain": [
       "  labels                                               data\n",
       "0    ham  Go until jurong point, crazy.. Available only ...\n",
       "1    ham                      Ok lar... Joking wif u oni...\n",
       "2   spam  Free entry in 2 a wkly comp to win FA Cup fina...\n",
       "3    ham  U dun say so early hor... U c already then say...\n",
       "4    ham  Nah I don't think he goes to usf, he lives aro..."
      ]
     },
     "execution_count": 8,
     "metadata": {
      "tags": []
     },
     "output_type": "execute_result"
    }
   ],
   "source": [
    "df.head()"
   ]
  },
  {
   "cell_type": "code",
   "execution_count": null,
   "metadata": {
    "colab": {},
    "colab_type": "code",
    "id": "xJY2m935RWcz"
   },
   "outputs": [],
   "source": [
    "df['b_labels'] = df['labels'].map({'ham': 0, 'spam': 1})"
   ]
  },
  {
   "cell_type": "code",
   "execution_count": null,
   "metadata": {
    "colab": {},
    "colab_type": "code",
    "id": "rF1QD-XuWZhn"
   },
   "outputs": [],
   "source": [
    "df2 = df[['data', 'b_labels']]"
   ]
  },
  {
   "cell_type": "code",
   "execution_count": null,
   "metadata": {
    "colab": {
     "base_uri": "https://localhost:8080/",
     "height": 204
    },
    "colab_type": "code",
    "id": "sb8zvaOhWeY7",
    "outputId": "7d044cf9-a1dc-4ac8-8272-ba4480a501fc"
   },
   "outputs": [
    {
     "data": {
      "text/html": [
       "<div>\n",
       "<style scoped>\n",
       "    .dataframe tbody tr th:only-of-type {\n",
       "        vertical-align: middle;\n",
       "    }\n",
       "\n",
       "    .dataframe tbody tr th {\n",
       "        vertical-align: top;\n",
       "    }\n",
       "\n",
       "    .dataframe thead th {\n",
       "        text-align: right;\n",
       "    }\n",
       "</style>\n",
       "<table border=\"1\" class=\"dataframe\">\n",
       "  <thead>\n",
       "    <tr style=\"text-align: right;\">\n",
       "      <th></th>\n",
       "      <th>data</th>\n",
       "      <th>b_labels</th>\n",
       "    </tr>\n",
       "  </thead>\n",
       "  <tbody>\n",
       "    <tr>\n",
       "      <th>0</th>\n",
       "      <td>Go until jurong point, crazy.. Available only ...</td>\n",
       "      <td>0</td>\n",
       "    </tr>\n",
       "    <tr>\n",
       "      <th>1</th>\n",
       "      <td>Ok lar... Joking wif u oni...</td>\n",
       "      <td>0</td>\n",
       "    </tr>\n",
       "    <tr>\n",
       "      <th>2</th>\n",
       "      <td>Free entry in 2 a wkly comp to win FA Cup fina...</td>\n",
       "      <td>1</td>\n",
       "    </tr>\n",
       "    <tr>\n",
       "      <th>3</th>\n",
       "      <td>U dun say so early hor... U c already then say...</td>\n",
       "      <td>0</td>\n",
       "    </tr>\n",
       "    <tr>\n",
       "      <th>4</th>\n",
       "      <td>Nah I don't think he goes to usf, he lives aro...</td>\n",
       "      <td>0</td>\n",
       "    </tr>\n",
       "  </tbody>\n",
       "</table>\n",
       "</div>"
      ],
      "text/plain": [
       "                                                data  b_labels\n",
       "0  Go until jurong point, crazy.. Available only ...         0\n",
       "1                      Ok lar... Joking wif u oni...         0\n",
       "2  Free entry in 2 a wkly comp to win FA Cup fina...         1\n",
       "3  U dun say so early hor... U c already then say...         0\n",
       "4  Nah I don't think he goes to usf, he lives aro...         0"
      ]
     },
     "execution_count": 11,
     "metadata": {
      "tags": []
     },
     "output_type": "execute_result"
    }
   ],
   "source": [
    "df2.head()"
   ]
  },
  {
   "cell_type": "code",
   "execution_count": null,
   "metadata": {
    "colab": {},
    "colab_type": "code",
    "id": "hlgbM1PVWgkm"
   },
   "outputs": [],
   "source": [
    "df2.to_csv('spam2.csv', index=False)"
   ]
  },
  {
   "cell_type": "code",
   "execution_count": null,
   "metadata": {
    "colab": {},
    "colab_type": "code",
    "id": "QFMuv5sZQke5"
   },
   "outputs": [],
   "source": [
    "TEXT = ttd.Field(sequential=True, batch_first=True, lower=False, pad_first=True)\n",
    "LABEL = ttd.Field(sequential=False, use_vocab=False, is_target=True)\n",
    "\n",
    "\n",
    "dataset = ttd.TabularDataset(\n",
    "    path='spam2.csv',\n",
    "    format='csv',\n",
    "    skip_header=True,\n",
    "    fields=[('data', TEXT), ('label', LABEL)]\n",
    ")\n",
    "\n"
   ]
  },
  {
   "cell_type": "code",
   "execution_count": null,
   "metadata": {
    "colab": {},
    "colab_type": "code",
    "id": "xmdkw_zFWp9E"
   },
   "outputs": [],
   "source": [
    "train_dataset, test_dataset = dataset.split() # default is 0.7"
   ]
  },
  {
   "cell_type": "code",
   "execution_count": null,
   "metadata": {
    "colab": {},
    "colab_type": "code",
    "id": "czCW945vZh8y"
   },
   "outputs": [],
   "source": [
    "TEXT.build_vocab(train_dataset,)"
   ]
  },
  {
   "cell_type": "code",
   "execution_count": null,
   "metadata": {
    "colab": {},
    "colab_type": "code",
    "id": "56Bz-9U4ZvuE"
   },
   "outputs": [],
   "source": [
    "vocab = TEXT.vocab"
   ]
  },
  {
   "cell_type": "code",
   "execution_count": null,
   "metadata": {
    "colab": {
     "base_uri": "https://localhost:8080/",
     "height": 34
    },
    "colab_type": "code",
    "id": "AEtkVKc3YnDx",
    "outputId": "eb511669-3a3e-408c-c407-9bc06585e9f1"
   },
   "outputs": [
    {
     "name": "stdout",
     "output_type": "stream",
     "text": [
      "cuda:0\n"
     ]
    }
   ],
   "source": [
    "device = torch.device(\"cuda:0\" if torch.cuda.is_available() else \"cpu\")\n",
    "print(device)"
   ]
  },
  {
   "cell_type": "code",
   "execution_count": null,
   "metadata": {
    "colab": {},
    "colab_type": "code",
    "id": "iQ7viCd4Xhm4"
   },
   "outputs": [],
   "source": [
    "train_iter, test_iter = ttd.Iterator.splits(\n",
    "        (train_dataset, test_dataset), sort_key=lambda x: len(x.data),\n",
    "        batch_sizes=(32, 256), device=device)\n",
    "\n",
    "        "
   ]
  },
  {
   "cell_type": "code",
   "execution_count": null,
   "metadata": {
    "colab": {
     "base_uri": "https://localhost:8080/",
     "height": 34
    },
    "colab_type": "code",
    "id": "XEplp8Tton2W",
    "outputId": "8397e1b2-d5c3-478d-8841-780ed72177fc"
   },
   "outputs": [
    {
     "name": "stdout",
     "output_type": "stream",
     "text": [
      "input shape: torch.Size([32, 36]) output shape: torch.Size([32, 36, 20])\n"
     ]
    }
   ],
   "source": [
    "# shape of embedding --> (N x T x D)\n",
    "\n",
    "\n",
    "embed = nn.Embedding(len(vocab), 20).to(device)\n",
    "\n",
    "for inputs, targets in train_iter:\n",
    "  out = embed(inputs)\n",
    "  print(\"input shape:\", inputs.shape, \"output shape:\", out.shape)\n",
    "  break\n",
    "\n"
   ]
  },
  {
   "cell_type": "code",
   "execution_count": null,
   "metadata": {
    "colab": {},
    "colab_type": "code",
    "id": "oTdqSCmwfRNp"
   },
   "outputs": [],
   "source": [
    "class CNN(nn.Module):\n",
    "\n",
    "  def __init__(self, n_vocab, embed_dim, n_outputs):\n",
    "    super(CNN, self).__init__()\n",
    "\n",
    "    self.V = n_vocab\n",
    "    self.D = embed_dim\n",
    "    self.K = n_outputs\n",
    "\n",
    "\n",
    "    self.embed = nn.Embedding(self.V, self.D)\n",
    "\n",
    "    self.conv1 = nn.Conv1d(self.D, 32, 3, padding=1)\n",
    "    self.pool1 = nn.MaxPool1d(2)\n",
    "    self.conv2 = nn.Conv1d(32, 64, 3, padding=1)\n",
    "    self.pool2 = nn.MaxPool1d(2)\n",
    "    self.conv3 = nn.Conv1d(64, 128, 3, padding=1)\n",
    "    \n",
    "    self.fc = nn.Linear(128, self.K)\n",
    "  \n",
    "\n",
    "\n",
    "  def forward(self, X):\n",
    "\n",
    "    out = self.embed(X)\n",
    "\n",
    "    # output of embedding --> (N, T, D)\n",
    "    # conv1d expects --> (N, D, T)\n",
    "\n",
    "    out = out.permute(0, 2, 1)\n",
    "    out = self.conv1(out)\n",
    "    out = F.relu(out)\n",
    "    out = self.pool1(out)\n",
    "    out = self.conv2(out)\n",
    "    out = F.relu(out)\n",
    "    out = self.pool2(out)\n",
    "    out = self.conv3(out)\n",
    "    out = F.relu(out)\n",
    "\n",
    "    out = out.permute(0, 2, 1)    # changing back\n",
    "\n",
    "    out, _ = torch.max(out, 1)    # max pool\n",
    "    \n",
    "    out = self.fc(out)\n",
    "    \n",
    "    \n",
    "    return out\n"
   ]
  },
  {
   "cell_type": "code",
   "execution_count": null,
   "metadata": {
    "colab": {
     "base_uri": "https://localhost:8080/",
     "height": 170
    },
    "colab_type": "code",
    "id": "c7IXFlkDf9Bl",
    "outputId": "f85f482d-6bee-49a3-a8ba-a2c36ab4faed"
   },
   "outputs": [
    {
     "data": {
      "text/plain": [
       "CNN(\n",
       "  (embed): Embedding(12608, 20)\n",
       "  (conv1): Conv1d(20, 32, kernel_size=(3,), stride=(1,), padding=(1,))\n",
       "  (pool1): MaxPool1d(kernel_size=2, stride=2, padding=0, dilation=1, ceil_mode=False)\n",
       "  (conv2): Conv1d(32, 64, kernel_size=(3,), stride=(1,), padding=(1,))\n",
       "  (pool2): MaxPool1d(kernel_size=2, stride=2, padding=0, dilation=1, ceil_mode=False)\n",
       "  (conv3): Conv1d(64, 128, kernel_size=(3,), stride=(1,), padding=(1,))\n",
       "  (fc): Linear(in_features=128, out_features=1, bias=True)\n",
       ")"
      ]
     },
     "execution_count": 37,
     "metadata": {
      "tags": []
     },
     "output_type": "execute_result"
    }
   ],
   "source": [
    "model = CNN(len(vocab), 20, 1).to(device)\n",
    "model\n"
   ]
  },
  {
   "cell_type": "code",
   "execution_count": null,
   "metadata": {
    "colab": {},
    "colab_type": "code",
    "id": "MIJTThwEgMs4"
   },
   "outputs": [],
   "source": [
    "criterion = nn.BCEWithLogitsLoss()\n",
    "optimizer = torch.optim.Adam(model.parameters())"
   ]
  },
  {
   "cell_type": "code",
   "execution_count": null,
   "metadata": {
    "colab": {},
    "colab_type": "code",
    "id": "HiYHRnM6gRz7"
   },
   "outputs": [],
   "source": [
    "def batch_gd(model, criterion, optimizer, train_iter, test_iter, epochs):\n",
    "\n",
    "  train_losses = np.zeros(epochs)\n",
    "  test_losses = np.zeros(epochs)\n",
    "\n",
    "\n",
    "  for it in range(epochs):\n",
    "    t0 = datetime.now()\n",
    "    train_loss = []\n",
    "\n",
    "\n",
    "    for inputs, targets in train_iter:\n",
    "\n",
    "      targets = targets.view(-1, 1).float()\n",
    "\n",
    "      optimizer.zero_grad()\n",
    "\n",
    "      outputs = model(inputs)\n",
    "      loss = criterion(outputs, targets)\n",
    "        \n",
    "      loss.backward()\n",
    "      optimizer.step()\n",
    "\n",
    "      train_loss.append(loss.item())\n",
    "\n",
    "\n",
    "    train_loss = np.mean(train_loss)\n",
    "    \n",
    "\n",
    "\n",
    "    test_loss = []\n",
    "    \n",
    "    for inputs, targets in test_iter:\n",
    "      targets = targets.view(-1, 1).float()\n",
    "      outputs = model(inputs)\n",
    "      loss = criterion(outputs, targets)\n",
    "      test_loss.append(loss.item())\n",
    "\n",
    "\n",
    "    test_loss = np.mean(test_loss)\n",
    "\n",
    "\n",
    "\n",
    "\n",
    "    train_losses[it] = train_loss\n",
    "    test_losses[it] = test_loss\n",
    "    \n",
    "\n",
    "\n",
    "    dt = datetime.now() - t0\n",
    "    print(f'Epoch {it+1}/{epochs}, Train Loss: {train_loss:.4f}, Test Loss: {test_loss:.4f}, Duration: {dt}')\n",
    "  \n",
    "  \n",
    "  return train_losses, test_losses\n",
    "\n"
   ]
  },
  {
   "cell_type": "code",
   "execution_count": null,
   "metadata": {
    "colab": {
     "base_uri": "https://localhost:8080/",
     "height": 153
    },
    "colab_type": "code",
    "id": "T60TTrZKgjEL",
    "outputId": "b3814d55-5804-47bd-d7ca-a4d59d254761"
   },
   "outputs": [
    {
     "name": "stdout",
     "output_type": "stream",
     "text": [
      "Epoch 1/8, Train Loss: 0.3698,       Test Loss: 0.4061, Duration: 0:00:00.522363\n",
      "Epoch 2/8, Train Loss: 0.2534,       Test Loss: 0.2464, Duration: 0:00:00.482966\n",
      "Epoch 3/8, Train Loss: 0.1692,       Test Loss: 0.1860, Duration: 0:00:00.492887\n",
      "Epoch 4/8, Train Loss: 0.1146,       Test Loss: 0.2028, Duration: 0:00:00.479830\n",
      "Epoch 5/8, Train Loss: 0.0828,       Test Loss: 0.1409, Duration: 0:00:00.482954\n",
      "Epoch 6/8, Train Loss: 0.0531,       Test Loss: 0.1357, Duration: 0:00:00.530131\n",
      "Epoch 7/8, Train Loss: 0.0371,       Test Loss: 0.1574, Duration: 0:00:00.534883\n",
      "Epoch 8/8, Train Loss: 0.0248,       Test Loss: 0.1567, Duration: 0:00:00.481926\n"
     ]
    }
   ],
   "source": [
    "train_losses, test_losses = batch_gd(model, criterion, optimizer, train_iter, test_iter, 8)\n"
   ]
  },
  {
   "cell_type": "code",
   "execution_count": null,
   "metadata": {
    "colab": {
     "base_uri": "https://localhost:8080/",
     "height": 265
    },
    "colab_type": "code",
    "id": "NoqoPH75j9L3",
    "outputId": "e5e6d9d2-47e8-438f-cafb-6551c2fc5587"
   },
   "outputs": [
    {
     "data": {
      "image/png": "[encoded data removed]",
      "text/plain": [
       "<Figure size 432x288 with 1 Axes>"
      ]
     },
     "metadata": {
      "tags": []
     },
     "output_type": "display_data"
    }
   ],
   "source": [
    "plt.plot(train_losses, label='train loss')\n",
    "plt.plot(test_losses, label='test loss')\n",
    "plt.legend()\n",
    "plt.show()"
   ]
  },
  {
   "cell_type": "code",
   "execution_count": null,
   "metadata": {
    "colab": {
     "base_uri": "https://localhost:8080/",
     "height": 34
    },
    "colab_type": "code",
    "id": "jP-E181MkC0z",
    "outputId": "8e8c1415-b430-4060-e887-56d87ab3ca9e"
   },
   "outputs": [
    {
     "name": "stdout",
     "output_type": "stream",
     "text": [
      "Train acc: 0.9964, Test acc: 0.9450\n"
     ]
    }
   ],
   "source": [
    "\n",
    "n_correct = 0.\n",
    "n_total = 0.\n",
    "\n",
    "\n",
    "\n",
    "for inputs, targets in train_iter:\n",
    "\n",
    "  targets = targets.view(-1, 1).float()\n",
    "\n",
    "  outputs = model(inputs)\n",
    "\n",
    "  predictions = (outputs > 0)\n",
    "  \n",
    "  n_correct += (predictions == targets).sum().item()\n",
    "  n_total += targets.shape[0]\n",
    "\n",
    "\n",
    "train_acc = n_correct / n_total\n",
    "\n",
    "\n",
    "\n",
    "\n",
    "n_correct = 0.\n",
    "n_total = 0.\n",
    "\n",
    "\n",
    "for inputs, targets in test_iter:\n",
    "\n",
    "  targets = targets.view(-1, 1).float()\n",
    "\n",
    "  outputs = model(inputs)\n",
    "\n",
    "  predictions = (outputs > 0)\n",
    "  \n",
    "  n_correct += (predictions == targets).sum().item()\n",
    "  n_total += targets.shape[0]\n",
    "\n",
    "\n",
    "test_acc = n_correct / n_total\n",
    "\n",
    "\n",
    "\n",
    "print(f\"Train acc: {train_acc:.4f}, Test acc: {test_acc:.4f}\")\n"
   ]
  }
 ],
 "metadata": {
  "accelerator": "GPU",
  "colab": {
   "name": "PyTorch Text Classification CNN.ipynb",
   "provenance": []
  },
  "kernelspec": {
   "display_name": "Python 3 (ipykernel)",
   "language": "python",
   "name": "python3"
  },
  "language_info": {
   "codemirror_mode": {
    "name": "ipython",
    "version": 3
   },
   "file_extension": ".py",
   "mimetype": "text/x-python",
   "name": "python",
   "nbconvert_exporter": "python",
   "pygments_lexer": "ipython3",
   "version": "3.8.8"
  }
 },
 "nbformat": 4,
 "nbformat_minor": 1
}
